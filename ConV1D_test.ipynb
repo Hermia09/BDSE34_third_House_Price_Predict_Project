{
  "cells": [
    {
      "cell_type": "code",
      "execution_count": null,
      "metadata": {
        "id": "EVxljd1exKpT",
        "outputId": "d1513e56-47b6-4655-bd52-8e99c7b56102"
      },
      "outputs": [
        {
          "name": "stdout",
          "output_type": "stream",
          "text": [
            "WARNING:tensorflow:From c:\\Users\\student\\anaconda3\\envs\\dl\\lib\\site-packages\\tf_keras\\src\\losses.py:2976: The name tf.losses.sparse_softmax_cross_entropy is deprecated. Please use tf.compat.v1.losses.sparse_softmax_cross_entropy instead.\n",
            "\n",
            "WARNING:tensorflow:From c:\\Users\\student\\anaconda3\\envs\\dl\\lib\\site-packages\\tensorflow_probability\\python\\internal\\backend\\numpy\\_utils.py:48: The name tf.logging.TaskLevelStatusMessage is deprecated. Please use tf.compat.v1.logging.TaskLevelStatusMessage instead.\n",
            "\n",
            "WARNING:tensorflow:From c:\\Users\\student\\anaconda3\\envs\\dl\\lib\\site-packages\\tensorflow_probability\\python\\internal\\backend\\numpy\\_utils.py:48: The name tf.control_flow_v2_enabled is deprecated. Please use tf.compat.v1.control_flow_v2_enabled instead.\n",
            "\n"
          ]
        }
      ],
      "source": [
        "import numpy as np\n",
        "import joblib\n",
        "import pandas as pd\n",
        "import datetime\n",
        "import tensorflow as tf\n",
        "import os\n",
        "import random\n",
        "import timeit\n",
        "import seaborn as sns\n",
        "import datetime\n",
        "import matplotlib.pyplot as plt\n",
        "\n",
        "import tensorflow_probability as tfp\n",
        "from tensorflow.keras.models import Sequential\n",
        "from tensorflow.keras.models import Sequential\n",
        "from tensorflow.keras.layers import Dense, LSTM, Conv1D, MaxPooling1D, Bidirectional, Dropout, Flatten, GlobalAveragePooling1D, GlobalMaxPooling1D, Reshape, Multiply, GRU\n",
        "from tensorflow.keras import backend as K\n",
        "from tensorflow.keras.metrics import RootMeanSquaredError"
      ]
    },
    {
      "cell_type": "markdown",
      "metadata": {
        "id": "YVQ3nvCuxKpc"
      },
      "source": [
        "## CBAM layer實作"
      ]
    },
    {
      "cell_type": "code",
      "execution_count": null,
      "metadata": {
        "id": "UMf6cGV3xKpf",
        "outputId": "e822ac74-0225-4e66-98a5-6b64f3cd47d2"
      },
      "outputs": [
        {
          "data": {
            "text/plain": [
              "2"
            ]
          },
          "execution_count": 2,
          "metadata": {},
          "output_type": "execute_result"
        }
      ],
      "source": [
        "channel = 32\n",
        "reduction = 16\n",
        "channel // reduction"
      ]
    },
    {
      "cell_type": "code",
      "execution_count": null,
      "metadata": {
        "id": "JOGQyjS8xKpg"
      },
      "outputs": [],
      "source": [
        "class CBAMLayer(tf.keras.Model):\n",
        "    def __init__(self, channel, reduction=16, spatial_kernel=7):   # 作者預設: reduction=16, spatial_kernel=7(這是論文設定值，可能有神麼意義?)\n",
        "        super(CBAMLayer, self).__init__()\n",
        "        self.channel = channel\n",
        "\n",
        "        # Channel attention\n",
        "        self.max_pool = GlobalMaxPooling1D()\n",
        "        self.avg_pool = GlobalAveragePooling1D()\n",
        "\n",
        "        self.mlp = tf.keras.Sequential([\n",
        "            Dense(channel // reduction, use_bias=False), # 利用channel除以reduction，壓縮到縮到一個維度較低的空間\n",
        "            tf.keras.layers.Activation('relu'),\n",
        "            Dense(channel, use_bias=False)               # 然後再過一個回到channel數量的維度\n",
        "        ])\n",
        "\n",
        "        # Spatial attention\n",
        "        self.conv = Conv1D(1, (spatial_kernel), padding='same', use_bias=False)\n",
        "        self.sigmoid = tf.keras.layers.Activation('sigmoid')\n",
        "\n",
        "    # 這應該是繼承來overwrite(或是實作(本來可能根本沒寫(抽象方法的概念)))的方法，定義好之後因為keras每一層會自動訓練，所以裏頭也就是會去呼叫這個叫做call()的方法，所以這個名子不能去改\n",
        "    def call(self, x):\n",
        "        max_out = self.mlp(Reshape((1, self.channel))(self.max_pool(x))) # MLP轉換 # x是輸入的張量 # Reshape將self.max_pool(x)出來的值的形狀改成(1, self.channel)，基本上在這裡self.max_pool(x)的形狀應該會是(32,)，因為總共有32個filter，這樣做是因為TensorFlow Dense層要求的input shape 為 (#batch_size(反正就是樣本數), #input_dimension)，只有一筆所以就給1，然後是32個特徵(維)，寫法蠻神奇的要注意一下\n",
        "        avg_out = self.mlp(Reshape((1, self.channel))(self.avg_pool(x))) # MLP轉換\n",
        "        channel_out = self.sigmoid(max_out + avg_out)   # 經MLP轉換後的maxpooling跟averagepooling相加後，再過一個sigmoid\n",
        "        x = Multiply()([channel_out, x])\n",
        "\n",
        "        max_out = tf.reduce_max(x, axis=2, keepdims=True)\n",
        "        avg_out = tf.reduce_mean(x, axis=2, keepdims=True)\n",
        "        spatial_out = self.sigmoid(self.conv(tf.concat([max_out, avg_out], axis=2)))\n",
        "        x = Multiply()([spatial_out, x])\n",
        "        return x"
      ]
    },
    {
      "cell_type": "code",
      "execution_count": null,
      "metadata": {
        "id": "HH26tpvgxKpi",
        "outputId": "fdddd0cb-ce23-4e9d-b57f-a89396806481"
      },
      "outputs": [
        {
          "name": "stdout",
          "output_type": "stream",
          "text": [
            "x shape is (1, 32, 1024)\n",
            "y shape is (1, 32, 1024)\n"
          ]
        }
      ],
      "source": [
        "x = tf.random.normal((1, 32, 1024))\n",
        "net = CBAMLayer(1024)\n",
        "y = net.call(x)\n",
        "\n",
        "# 輸入跟輸出的形狀是一樣的\n",
        "print(f\"x shape is {x.shape}\")\n",
        "print(f\"y shape is {y.shape}\")"
      ]
    },
    {
      "cell_type": "markdown",
      "metadata": {
        "id": "CEuOsyErxKpj"
      },
      "source": [
        "### 嘗試將多變量時間序列包成input的形狀"
      ]
    },
    {
      "cell_type": "code",
      "execution_count": null,
      "metadata": {
        "id": "zV3Gp0gWxKpk"
      },
      "outputs": [],
      "source": [
        "import pandas as pd\n",
        "\n",
        "# 使用相對路徑載入資料\n",
        "df = pd.read_csv('../../all_data/house_price_monthly_bfill.csv', encoding='utf-8')"
      ]
    },
    {
      "cell_type": "code",
      "execution_count": null,
      "metadata": {
        "id": "XhVOlmp9xKpl",
        "outputId": "12d7f034-0d88-4a66-9cd8-334a1d17ba11"
      },
      "outputs": [
        {
          "data": {
            "text/html": [
              "<div>\n",
              "<style scoped>\n",
              "    .dataframe tbody tr th:only-of-type {\n",
              "        vertical-align: middle;\n",
              "    }\n",
              "\n",
              "    .dataframe tbody tr th {\n",
              "        vertical-align: top;\n",
              "    }\n",
              "\n",
              "    .dataframe thead th {\n",
              "        text-align: right;\n",
              "    }\n",
              "</style>\n",
              "<table border=\"1\" class=\"dataframe\">\n",
              "  <thead>\n",
              "    <tr style=\"text-align: right;\">\n",
              "      <th></th>\n",
              "      <th>date</th>\n",
              "      <th>house_index_xyi_all_tp</th>\n",
              "      <th>house_index_xyi_tp</th>\n",
              "      <th>house_index_xyi_new_tp</th>\n",
              "      <th>EA1101</th>\n",
              "      <th>EB0312</th>\n",
              "      <th>EB0911</th>\n",
              "      <th>EB18</th>\n",
              "      <th>EB21</th>\n",
              "      <th>EB22</th>\n",
              "      <th>...</th>\n",
              "      <th>航運業(TSE26)收盤</th>\n",
              "      <th>鋼鐵(TSE20)收盤</th>\n",
              "      <th>倫敦鋁現貨價</th>\n",
              "      <th>倫敦高級銅極現貨價</th>\n",
              "      <th>巴拿馬型貨櫃運費指數</th>\n",
              "      <th>杜拜輕原油現貨價</th>\n",
              "      <th>水泥50kg北區台泥</th>\n",
              "      <th>無鉛汽油95</th>\n",
              "      <th>竹節鋼筋_南</th>\n",
              "      <th>預拌混凝土3000磅台北</th>\n",
              "    </tr>\n",
              "  </thead>\n",
              "  <tbody>\n",
              "    <tr>\n",
              "      <th>0</th>\n",
              "      <td>2011-01-31</td>\n",
              "      <td>95.40</td>\n",
              "      <td>94.45</td>\n",
              "      <td>96.84</td>\n",
              "      <td>34.0</td>\n",
              "      <td>28.8</td>\n",
              "      <td>1.0978</td>\n",
              "      <td>86.78</td>\n",
              "      <td>95.85</td>\n",
              "      <td>89.85</td>\n",
              "      <td>...</td>\n",
              "      <td>123.49</td>\n",
              "      <td>120.70</td>\n",
              "      <td>2450.300</td>\n",
              "      <td>9560.900</td>\n",
              "      <td>1738.2</td>\n",
              "      <td>91.6700</td>\n",
              "      <td>151.5</td>\n",
              "      <td>31.600</td>\n",
              "      <td>21260.0</td>\n",
              "      <td>1815.0</td>\n",
              "    </tr>\n",
              "    <tr>\n",
              "      <th>1</th>\n",
              "      <td>2011-02-28</td>\n",
              "      <td>97.69</td>\n",
              "      <td>97.34</td>\n",
              "      <td>98.23</td>\n",
              "      <td>34.0</td>\n",
              "      <td>28.8</td>\n",
              "      <td>1.3261</td>\n",
              "      <td>85.89</td>\n",
              "      <td>96.75</td>\n",
              "      <td>89.80</td>\n",
              "      <td>...</td>\n",
              "      <td>108.61</td>\n",
              "      <td>117.89</td>\n",
              "      <td>2513.250</td>\n",
              "      <td>9853.125</td>\n",
              "      <td>1696.0</td>\n",
              "      <td>99.7525</td>\n",
              "      <td>151.5</td>\n",
              "      <td>31.575</td>\n",
              "      <td>21250.0</td>\n",
              "      <td>1890.0</td>\n",
              "    </tr>\n",
              "    <tr>\n",
              "      <th>2</th>\n",
              "      <td>2011-03-31</td>\n",
              "      <td>97.76</td>\n",
              "      <td>97.86</td>\n",
              "      <td>97.61</td>\n",
              "      <td>31.0</td>\n",
              "      <td>28.8</td>\n",
              "      <td>1.3950</td>\n",
              "      <td>83.66</td>\n",
              "      <td>96.60</td>\n",
              "      <td>88.00</td>\n",
              "      <td>...</td>\n",
              "      <td>103.48</td>\n",
              "      <td>122.54</td>\n",
              "      <td>2548.875</td>\n",
              "      <td>9564.625</td>\n",
              "      <td>2071.5</td>\n",
              "      <td>109.1775</td>\n",
              "      <td>151.5</td>\n",
              "      <td>32.675</td>\n",
              "      <td>21525.0</td>\n",
              "      <td>1890.0</td>\n",
              "    </tr>\n",
              "    <tr>\n",
              "      <th>3</th>\n",
              "      <td>2011-04-30</td>\n",
              "      <td>97.31</td>\n",
              "      <td>98.38</td>\n",
              "      <td>95.69</td>\n",
              "      <td>29.0</td>\n",
              "      <td>28.8</td>\n",
              "      <td>1.2941</td>\n",
              "      <td>85.78</td>\n",
              "      <td>100.45</td>\n",
              "      <td>89.30</td>\n",
              "      <td>...</td>\n",
              "      <td>110.02</td>\n",
              "      <td>122.81</td>\n",
              "      <td>2682.700</td>\n",
              "      <td>9524.800</td>\n",
              "      <td>1601.0</td>\n",
              "      <td>115.6840</td>\n",
              "      <td>151.5</td>\n",
              "      <td>32.980</td>\n",
              "      <td>20500.0</td>\n",
              "      <td>1896.0</td>\n",
              "    </tr>\n",
              "    <tr>\n",
              "      <th>4</th>\n",
              "      <td>2011-05-31</td>\n",
              "      <td>96.85</td>\n",
              "      <td>97.02</td>\n",
              "      <td>96.60</td>\n",
              "      <td>27.0</td>\n",
              "      <td>28.8</td>\n",
              "      <td>1.6650</td>\n",
              "      <td>85.40</td>\n",
              "      <td>102.60</td>\n",
              "      <td>90.55</td>\n",
              "      <td>...</td>\n",
              "      <td>112.45</td>\n",
              "      <td>118.57</td>\n",
              "      <td>2587.625</td>\n",
              "      <td>8945.125</td>\n",
              "      <td>1755.0</td>\n",
              "      <td>105.4850</td>\n",
              "      <td>151.5</td>\n",
              "      <td>32.525</td>\n",
              "      <td>20175.0</td>\n",
              "      <td>1787.5</td>\n",
              "    </tr>\n",
              "    <tr>\n",
              "      <th>...</th>\n",
              "      <td>...</td>\n",
              "      <td>...</td>\n",
              "      <td>...</td>\n",
              "      <td>...</td>\n",
              "      <td>...</td>\n",
              "      <td>...</td>\n",
              "      <td>...</td>\n",
              "      <td>...</td>\n",
              "      <td>...</td>\n",
              "      <td>...</td>\n",
              "      <td>...</td>\n",
              "      <td>...</td>\n",
              "      <td>...</td>\n",
              "      <td>...</td>\n",
              "      <td>...</td>\n",
              "      <td>...</td>\n",
              "      <td>...</td>\n",
              "      <td>...</td>\n",
              "      <td>...</td>\n",
              "      <td>...</td>\n",
              "      <td>...</td>\n",
              "    </tr>\n",
              "    <tr>\n",
              "      <th>154</th>\n",
              "      <td>2023-11-30</td>\n",
              "      <td>162.10</td>\n",
              "      <td>150.51</td>\n",
              "      <td>179.66</td>\n",
              "      <td>20.0</td>\n",
              "      <td>42.5</td>\n",
              "      <td>2.8952</td>\n",
              "      <td>69.40</td>\n",
              "      <td>67.42</td>\n",
              "      <td>81.84</td>\n",
              "      <td>...</td>\n",
              "      <td>138.28</td>\n",
              "      <td>139.30</td>\n",
              "      <td>2197.875</td>\n",
              "      <td>8135.500</td>\n",
              "      <td>1729.0</td>\n",
              "      <td>82.7800</td>\n",
              "      <td>169.5</td>\n",
              "      <td>31.125</td>\n",
              "      <td>20250.0</td>\n",
              "      <td>2625.0</td>\n",
              "    </tr>\n",
              "    <tr>\n",
              "      <th>155</th>\n",
              "      <td>2023-12-31</td>\n",
              "      <td>163.19</td>\n",
              "      <td>150.85</td>\n",
              "      <td>181.90</td>\n",
              "      <td>22.0</td>\n",
              "      <td>45.4</td>\n",
              "      <td>2.6980</td>\n",
              "      <td>70.06</td>\n",
              "      <td>67.32</td>\n",
              "      <td>81.33</td>\n",
              "      <td>...</td>\n",
              "      <td>154.46</td>\n",
              "      <td>146.64</td>\n",
              "      <td>2204.900</td>\n",
              "      <td>8450.000</td>\n",
              "      <td>2063.5</td>\n",
              "      <td>77.9300</td>\n",
              "      <td>169.5</td>\n",
              "      <td>30.960</td>\n",
              "      <td>20880.0</td>\n",
              "      <td>2625.0</td>\n",
              "    </tr>\n",
              "    <tr>\n",
              "      <th>156</th>\n",
              "      <td>2024-01-31</td>\n",
              "      <td>167.57</td>\n",
              "      <td>156.36</td>\n",
              "      <td>184.58</td>\n",
              "      <td>27.0</td>\n",
              "      <td>46.2</td>\n",
              "      <td>1.7954</td>\n",
              "      <td>72.14</td>\n",
              "      <td>69.24</td>\n",
              "      <td>82.94</td>\n",
              "      <td>...</td>\n",
              "      <td>149.83</td>\n",
              "      <td>141.05</td>\n",
              "      <td>2181.125</td>\n",
              "      <td>8339.375</td>\n",
              "      <td>1580.5</td>\n",
              "      <td>79.9025</td>\n",
              "      <td>169.5</td>\n",
              "      <td>30.650</td>\n",
              "      <td>20775.0</td>\n",
              "      <td>2700.0</td>\n",
              "    </tr>\n",
              "    <tr>\n",
              "      <th>157</th>\n",
              "      <td>2024-02-29</td>\n",
              "      <td>171.05</td>\n",
              "      <td>159.79</td>\n",
              "      <td>188.13</td>\n",
              "      <td>29.0</td>\n",
              "      <td>54.0</td>\n",
              "      <td>3.0751</td>\n",
              "      <td>73.22</td>\n",
              "      <td>70.23</td>\n",
              "      <td>83.59</td>\n",
              "      <td>...</td>\n",
              "      <td>157.14</td>\n",
              "      <td>141.65</td>\n",
              "      <td>2187.500</td>\n",
              "      <td>8314.000</td>\n",
              "      <td>1548.5</td>\n",
              "      <td>82.8375</td>\n",
              "      <td>169.5</td>\n",
              "      <td>30.600</td>\n",
              "      <td>20925.0</td>\n",
              "      <td>2700.0</td>\n",
              "    </tr>\n",
              "    <tr>\n",
              "      <th>158</th>\n",
              "      <td>2024-03-31</td>\n",
              "      <td>173.13</td>\n",
              "      <td>162.66</td>\n",
              "      <td>188.99</td>\n",
              "      <td>30.0</td>\n",
              "      <td>56.4</td>\n",
              "      <td>2.1472</td>\n",
              "      <td>73.51</td>\n",
              "      <td>70.41</td>\n",
              "      <td>83.68</td>\n",
              "      <td>...</td>\n",
              "      <td>154.33</td>\n",
              "      <td>139.16</td>\n",
              "      <td>2225.500</td>\n",
              "      <td>8664.600</td>\n",
              "      <td>1934.2</td>\n",
              "      <td>86.5420</td>\n",
              "      <td>169.5</td>\n",
              "      <td>31.020</td>\n",
              "      <td>20380.0</td>\n",
              "      <td>2700.0</td>\n",
              "    </tr>\n",
              "  </tbody>\n",
              "</table>\n",
              "<p>159 rows × 45 columns</p>\n",
              "</div>"
            ],
            "text/plain": [
              "           date  house_index_xyi_all_tp  house_index_xyi_tp  \\\n",
              "0    2011-01-31                   95.40               94.45   \n",
              "1    2011-02-28                   97.69               97.34   \n",
              "2    2011-03-31                   97.76               97.86   \n",
              "3    2011-04-30                   97.31               98.38   \n",
              "4    2011-05-31                   96.85               97.02   \n",
              "..          ...                     ...                 ...   \n",
              "154  2023-11-30                  162.10              150.51   \n",
              "155  2023-12-31                  163.19              150.85   \n",
              "156  2024-01-31                  167.57              156.36   \n",
              "157  2024-02-29                  171.05              159.79   \n",
              "158  2024-03-31                  173.13              162.66   \n",
              "\n",
              "     house_index_xyi_new_tp  EA1101  EB0312  EB0911   EB18    EB21   EB22  \\\n",
              "0                     96.84    34.0    28.8  1.0978  86.78   95.85  89.85   \n",
              "1                     98.23    34.0    28.8  1.3261  85.89   96.75  89.80   \n",
              "2                     97.61    31.0    28.8  1.3950  83.66   96.60  88.00   \n",
              "3                     95.69    29.0    28.8  1.2941  85.78  100.45  89.30   \n",
              "4                     96.60    27.0    28.8  1.6650  85.40  102.60  90.55   \n",
              "..                      ...     ...     ...     ...    ...     ...    ...   \n",
              "154                  179.66    20.0    42.5  2.8952  69.40   67.42  81.84   \n",
              "155                  181.90    22.0    45.4  2.6980  70.06   67.32  81.33   \n",
              "156                  184.58    27.0    46.2  1.7954  72.14   69.24  82.94   \n",
              "157                  188.13    29.0    54.0  3.0751  73.22   70.23  83.59   \n",
              "158                  188.99    30.0    56.4  2.1472  73.51   70.41  83.68   \n",
              "\n",
              "     ...  航運業(TSE26)收盤  鋼鐵(TSE20)收盤    倫敦鋁現貨價  倫敦高級銅極現貨價  巴拿馬型貨櫃運費指數  \\\n",
              "0    ...        123.49       120.70  2450.300   9560.900      1738.2   \n",
              "1    ...        108.61       117.89  2513.250   9853.125      1696.0   \n",
              "2    ...        103.48       122.54  2548.875   9564.625      2071.5   \n",
              "3    ...        110.02       122.81  2682.700   9524.800      1601.0   \n",
              "4    ...        112.45       118.57  2587.625   8945.125      1755.0   \n",
              "..   ...           ...          ...       ...        ...         ...   \n",
              "154  ...        138.28       139.30  2197.875   8135.500      1729.0   \n",
              "155  ...        154.46       146.64  2204.900   8450.000      2063.5   \n",
              "156  ...        149.83       141.05  2181.125   8339.375      1580.5   \n",
              "157  ...        157.14       141.65  2187.500   8314.000      1548.5   \n",
              "158  ...        154.33       139.16  2225.500   8664.600      1934.2   \n",
              "\n",
              "     杜拜輕原油現貨價  水泥50kg北區台泥  無鉛汽油95   竹節鋼筋_南  預拌混凝土3000磅台北  \n",
              "0     91.6700       151.5  31.600  21260.0        1815.0  \n",
              "1     99.7525       151.5  31.575  21250.0        1890.0  \n",
              "2    109.1775       151.5  32.675  21525.0        1890.0  \n",
              "3    115.6840       151.5  32.980  20500.0        1896.0  \n",
              "4    105.4850       151.5  32.525  20175.0        1787.5  \n",
              "..        ...         ...     ...      ...           ...  \n",
              "154   82.7800       169.5  31.125  20250.0        2625.0  \n",
              "155   77.9300       169.5  30.960  20880.0        2625.0  \n",
              "156   79.9025       169.5  30.650  20775.0        2700.0  \n",
              "157   82.8375       169.5  30.600  20925.0        2700.0  \n",
              "158   86.5420       169.5  31.020  20380.0        2700.0  \n",
              "\n",
              "[159 rows x 45 columns]"
            ]
          },
          "execution_count": 6,
          "metadata": {},
          "output_type": "execute_result"
        }
      ],
      "source": [
        "df"
      ]
    },
    {
      "cell_type": "code",
      "execution_count": null,
      "metadata": {
        "id": "ByO1PZLkxKpn"
      },
      "outputs": [],
      "source": [
        "# 取得資料的總筆數\n",
        "n = len(df)\n",
        "\n",
        "# 設定訓練資料集的筆數為總筆數的80%\n",
        "n_train = int(0.8 * n)\n",
        "# 設定驗證資料集的筆數為總筆數的10%\n",
        "n_val = int(0.1 * n)\n",
        "# 設定測試資料集的筆數為剩餘的筆數（總筆數減去訓練和驗證資料集的筆數）\n",
        "n_test = n - n_train - n_val\n",
        "\n",
        "# 將資料前80%的資料作為訓練資料集，並移除 'date' 欄位，只保留數值部分\n",
        "train_data = df[:n_train].drop(columns=['date']).values\n",
        "# 將資料前80%的資料作為訓練資料集，只保留 'date' 欄位，移除其他欄位\n",
        "train_date = df[:n_train][['date']]\n",
        "\n",
        "# 將資料第80%到90%的資料作為驗證資料集，並移除 'date' 欄位，只保留數值部分\n",
        "val_data = df[n_train:n_train + n_val].drop(columns=['date']).values\n",
        "# 將資料第80%到90%的資料作為驗證資料集，只保留 'date' 欄位，移除其他欄位\n",
        "val_date = df[n_train:n_train + n_val][['date']]\n",
        "\n",
        "# 將資料最後10%的資料作為測試資料集，並移除 'date' 欄位，只保留數值部分\n",
        "test_data = df[-n_test:].drop(columns=['date']).values\n",
        "# 將資料最後10%的資料作為測試資料集，只保留 'date' 欄位，移除其他欄位\n",
        "test_date = df[-n_test:][['date']]"
      ]
    },
    {
      "cell_type": "code",
      "execution_count": null,
      "metadata": {
        "id": "04Efx5LUxKpo",
        "outputId": "2dc4b018-1039-4e04-ac30-3f2001ba47d3"
      },
      "outputs": [
        {
          "data": {
            "text/plain": [
              "(127, 44)"
            ]
          },
          "execution_count": 8,
          "metadata": {},
          "output_type": "execute_result"
        }
      ],
      "source": [
        "# 原始表格\n",
        "# 這個形狀就是 (#samples(一個一個的時間點，以月為單位), #feature)\n",
        "train_data.shape # array-like"
      ]
    },
    {
      "cell_type": "code",
      "execution_count": null,
      "metadata": {
        "id": "myMZhcFgxKpp",
        "outputId": "6e5c1648-65d1-45a9-f1ed-370cae625444"
      },
      "outputs": [
        {
          "data": {
            "text/plain": [
              "127"
            ]
          },
          "execution_count": 9,
          "metadata": {},
          "output_type": "execute_result"
        }
      ],
      "source": [
        "len(train_data)"
      ]
    },
    {
      "cell_type": "code",
      "execution_count": null,
      "metadata": {
        "id": "A0VDh795xKpq"
      },
      "outputs": [],
      "source": [
        "# 希望 每一筆資料 以前6個月預測這個月 shape=(6,41)\n",
        "# 所以是y的format要改\n",
        "timestamp = 6\n",
        "X_shift_list = []\n",
        "y_shift_list = []\n",
        "for i, x in enumerate(train_data):\n",
        "    if timestamp+i < len(train_data):\n",
        "        X_shift_list.append(train_data[i:timestamp+i])\n",
        "        y_shift_list.append(train_data[timestamp+i, 0]) # 後面多加一個0代表取第一個經濟指標作為要預測的值y"
      ]
    },
    {
      "cell_type": "code",
      "execution_count": null,
      "metadata": {
        "id": "dsB63t7LxKpq"
      },
      "outputs": [],
      "source": [
        "X = np.array(X_shift_list)\n",
        "y = np.array(y_shift_list)"
      ]
    },
    {
      "cell_type": "code",
      "execution_count": null,
      "metadata": {
        "id": "nPPpD_pXxKpr",
        "outputId": "338e4263-a3cf-4152-e52b-3070aa3c090c"
      },
      "outputs": [
        {
          "name": "stdout",
          "output_type": "stream",
          "text": [
            "(121, 6, 44)\n",
            "(121,)\n"
          ]
        }
      ],
      "source": [
        "print(X.shape)\n",
        "print(y.shape)"
      ]
    },
    {
      "cell_type": "code",
      "execution_count": null,
      "metadata": {
        "id": "48kNn29rxKpr"
      },
      "outputs": [],
      "source": [
        "# 提取 '倫敦高級銅極現貨價' 和 'date' 欄位\n",
        "df_test = df[['date', '倫敦高級銅極現貨價']]"
      ]
    },
    {
      "cell_type": "markdown",
      "metadata": {
        "id": "8HZwD-osxKps"
      },
      "source": [
        "## step3.  Split the data into training, validation, and test sets"
      ]
    },
    {
      "cell_type": "code",
      "execution_count": null,
      "metadata": {
        "id": "tFcosa7exKps"
      },
      "outputs": [],
      "source": [
        "# 取得資料的總筆數\n",
        "n = len(df)\n",
        "\n",
        "# 設定訓練資料集的筆數為總筆數的80%\n",
        "n_train = int(0.8 * n)\n",
        "# 設定驗證資料集的筆數為總筆數的10%\n",
        "n_val = int(0.1 * n)\n",
        "# 設定測試資料集的筆數為剩餘的筆數（總筆數減去訓練和驗證資料集的筆數）\n",
        "n_test = n - n_train - n_val\n",
        "\n",
        "# 將資料前80%的資料作為訓練資料集，並移除 'date' 欄位，只保留數值部分\n",
        "train_data = df[:n_train].drop(columns=['date']).values\n",
        "# 將資料前80%的資料作為訓練資料集，只保留 'date' 欄位，移除其他欄位\n",
        "train_date = df[:n_train][['date']]\n",
        "\n",
        "# 將資料第80%到90%的資料作為驗證資料集，並移除 'date' 欄位，只保留數值部分\n",
        "val_data = df[n_train:n_train + n_val].drop(columns=['date']).values\n",
        "# 將資料第80%到90%的資料作為驗證資料集，只保留 'date' 欄位，移除其他欄位\n",
        "val_date = df[n_train:n_train + n_val][['date']]\n",
        "\n",
        "# 將資料最後10%的資料作為測試資料集，並移除 'date' 欄位，只保留數值部分\n",
        "test_data = df[-n_test:].drop(columns=['date']).values\n",
        "# 將資料最後10%的資料作為測試資料集，只保留 'date' 欄位，移除其他欄位\n",
        "test_date = df[-n_test:][['date']]"
      ]
    },
    {
      "cell_type": "code",
      "execution_count": null,
      "metadata": {
        "id": "6JTuzEUbxKpt",
        "outputId": "b166f709-02a7-4aeb-dde8-9c21709a2cdb"
      },
      "outputs": [
        {
          "data": {
            "text/plain": [
              "(127, 44)"
            ]
          },
          "execution_count": 15,
          "metadata": {},
          "output_type": "execute_result"
        }
      ],
      "source": [
        "train_data.shape"
      ]
    },
    {
      "cell_type": "code",
      "execution_count": null,
      "metadata": {
        "id": "G4SCmPiNxKpt",
        "outputId": "ba93ff7f-0d4e-4a43-d724-1692ba9a0d3a"
      },
      "outputs": [
        {
          "name": "stdout",
          "output_type": "stream",
          "text": [
            "Train Set      :  127\n",
            "Validation Set :  15\n",
            "Test Set       :  17\n"
          ]
        }
      ],
      "source": [
        "print('Train Set      : ',len(train_data))\n",
        "print('Validation Set : ',len(val_data))\n",
        "print('Test Set       : ',len(test_data))"
      ]
    },
    {
      "cell_type": "markdown",
      "metadata": {
        "id": "_SMJ1apSxKpu"
      },
      "source": [
        "## Step 4. 資料正則化"
      ]
    },
    {
      "cell_type": "code",
      "execution_count": null,
      "metadata": {
        "id": "SrLF5-gSxKpu"
      },
      "outputs": [],
      "source": [
        "from sklearn.preprocessing import StandardScaler   # 這個效果應該比較好\n",
        "\n",
        "scaler = StandardScaler()\n",
        "train_data = scaler.fit_transform(train_data) # 只有訓練資料可以fit，之後都使用訓練吃廖fit出來的結果作transform\n",
        "val_data   = scaler.transform(val_data)\n",
        "test_data  = scaler.transform(test_data)\n",
        "# 他全部資料都拿進去標準化了(所以最後target y要進行還原還原)\n",
        "\n",
        "############### 還原方法 ####################\n",
        "# 使用之前訓練好的標準化器 (scaler) 將數值資料恢復到標準化之前的值\n",
        "# original_data = scaler.inverse_transform(train_data)\n",
        "# original_data"
      ]
    },
    {
      "cell_type": "code",
      "execution_count": null,
      "metadata": {
        "id": "ctS8C6n6xKpv"
      },
      "outputs": [],
      "source": [
        "# 試試看歸一化\n",
        "# from sklearn.preprocessing import MinMaxScaler\n",
        "\n",
        "# mm_scaler = MinMaxScaler()\n",
        "# train_data = mm_scaler.fit_transform(train_data) # 只有訓練資料可以fit，之後都使用訓練吃廖fit出來的結果作transform\n",
        "# val_data   = mm_scaler.transform(val_data)\n",
        "# test_data  = mm_scaler.transform(test_data)"
      ]
    },
    {
      "cell_type": "markdown",
      "metadata": {
        "id": "WTHj8G_qxKpv"
      },
      "source": [
        "## step 5."
      ]
    },
    {
      "cell_type": "code",
      "execution_count": null,
      "metadata": {
        "id": "-jhKyAg5xKpv"
      },
      "outputs": [],
      "source": [
        "# Step 5 這邊只是demo沒幹嘛\n",
        "# Take day \"for predict\" from data test\n",
        "# 預測1,3,5天後\n",
        "\n",
        "one_day_date = test_date.head(1)\n",
        "one_day_data = test_data[:1]\n",
        "\n",
        "three_day_date = test_date.head(3)\n",
        "three_day_data = test_data[:3]\n",
        "\n",
        "five_day_date = test_date.head(5)\n",
        "five_day_data = test_data[:5]"
      ]
    },
    {
      "cell_type": "markdown",
      "metadata": {
        "id": "Jj85h_-HxKpw"
      },
      "source": [
        "## step 6. Create a windowed dataset for training"
      ]
    },
    {
      "cell_type": "code",
      "execution_count": null,
      "metadata": {
        "id": "dapFHXoZxKpw"
      },
      "outputs": [],
      "source": [
        "window_size = 12 # use 1 from interval one month of data for each window\n",
        "def create_window_dataset(data, window_size):\n",
        "    X = []\n",
        "    y = []\n",
        "    for i in range(window_size, len(data)):\n",
        "        X.append(data[i-window_size:i])\n",
        "        y.append(data[i, 0])  # 後面多加一個0代表取第一個經濟指標作為要預測的值y\n",
        "    return np.array(X), np.array(y)"
      ]
    },
    {
      "cell_type": "code",
      "execution_count": null,
      "metadata": {
        "id": "yMVFx8ouxKpx"
      },
      "outputs": [],
      "source": [
        "X_train, y_train = create_window_dataset(train_data, window_size)"
      ]
    },
    {
      "cell_type": "code",
      "execution_count": null,
      "metadata": {
        "id": "91zNVbZcxKpx",
        "outputId": "3a0a75f0-64af-4190-c1d2-67665cb2396c"
      },
      "outputs": [
        {
          "name": "stdout",
          "output_type": "stream",
          "text": [
            "(115, 12, 44)\n",
            "(115,)\n"
          ]
        }
      ],
      "source": [
        "print(X_train.shape)\n",
        "print(y_train.shape)"
      ]
    },
    {
      "cell_type": "code",
      "execution_count": null,
      "metadata": {
        "id": "ikJkh7ypxKpy",
        "outputId": "d9ed0044-387f-4866-c7f7-0aecbf8bf0f6"
      },
      "outputs": [
        {
          "name": "stdout",
          "output_type": "stream",
          "text": [
            "X is day 1 to 6 (6, 44)\n",
            "y is day 7, it is a scalar 0D shape ()\n"
          ]
        }
      ],
      "source": [
        "# Function: create_window_dataset 解釋\n",
        "# 在切資料筆數， 這一筆(第一筆)資料的輸入值\n",
        "# 以前6天的資料(X)預測當天y\n",
        "\n",
        "# X\n",
        "print(f\"X is day 1 to 6 {train_data[0:6].shape}\")\n",
        "\n",
        "\n",
        "# y\n",
        "print(f\"y is day 7, it is a scalar 0D shape {train_data[6, 0].shape}\")"
      ]
    },
    {
      "cell_type": "markdown",
      "metadata": {
        "id": "UUzZ0DDjxKpy"
      },
      "source": [
        "### Data input for Conv1D in TensorFlow be like [#sample, #timestamp, #features]"
      ]
    },
    {
      "cell_type": "markdown",
      "metadata": {
        "id": "4x2xxvS_xKpz"
      },
      "source": [
        "## step 7. 使用滑動窗口的方法創建數據集"
      ]
    },
    {
      "cell_type": "code",
      "execution_count": null,
      "metadata": {
        "id": "GtNMeikPxKpz"
      },
      "outputs": [],
      "source": [
        "# step 7.\n",
        "# 使用滑動窗口的方法從【訓練資料集】創建輸入和輸出數據集，window_size 為窗口大小\n",
        "X_train, y_train = create_window_dataset(train_data, window_size)\n",
        "\n",
        "# 使用滑動窗口的方法從【驗證資料集】創建輸入和輸出數據集，window_size 為窗口大小\n",
        "X_val, y_val = create_window_dataset(val_data, window_size)\n",
        "\n",
        "# 使用滑動窗口的方法從【測試資料集】創建輸入和輸出數據集，window_size 為窗口大小\n",
        "X_test, y_test = create_window_dataset(test_data, window_size)"
      ]
    },
    {
      "cell_type": "code",
      "execution_count": null,
      "metadata": {
        "id": "XAAmQDNmxKp0"
      },
      "outputs": [],
      "source": [
        "# 在 model.fit 方法中，輸入和輸出數據的形狀必須匹配模型的預期形狀。如果數據形狀不匹配，TensorFlow 會引發 ValueError。從錯誤信息來看，似乎有一個地方期望形狀為 (None, 1) 的張量，但得到了形狀為 (None,) 的張量。\n",
        "# y要reshape (n,) -> (n,1)\n",
        "\n",
        "y_train = y_train.reshape(-1,1)\n",
        "y_val = y_val.reshape(-1,1)\n",
        "y_test = y_test.reshape(-1,1)"
      ]
    },
    {
      "cell_type": "code",
      "execution_count": null,
      "metadata": {
        "id": "JWjhD0oKxKp0",
        "outputId": "2c7d6e12-6d9f-4850-8e27-4e80cef92fcd"
      },
      "outputs": [
        {
          "data": {
            "text/plain": [
              "(5, 1)"
            ]
          },
          "execution_count": 26,
          "metadata": {},
          "output_type": "execute_result"
        }
      ],
      "source": [
        "y_test.shape"
      ]
    },
    {
      "cell_type": "markdown",
      "metadata": {
        "id": "cvSGGtmexKp1"
      },
      "source": [
        "## step 8. 模型訓練"
      ]
    },
    {
      "cell_type": "code",
      "execution_count": null,
      "metadata": {
        "id": "qfJLQdwbxKp1"
      },
      "outputs": [],
      "source": [
        "# step 8.1\n",
        "def cc(y_true, y_pred):\n",
        "    \"\"\"\n",
        "    計算 y_true 和 y_pred 之間的相關係數。\n",
        "    \"\"\"\n",
        "    # 計算協方差矩陣\n",
        "    cov = tfp.stats.covariance(y_true, y_pred, sample_axis=0)\n",
        "\n",
        "    # 計算 y_true 和 y_pred 的標準差\n",
        "    std_true = K.std(y_true)\n",
        "    std_pred = K.std(y_pred)\n",
        "\n",
        "    # 計算相關係數\n",
        "    return cov / (std_true * std_pred)"
      ]
    },
    {
      "cell_type": "markdown",
      "metadata": {
        "id": "ed8rjaZ0xKp2"
      },
      "source": [
        "## 接下來要研究的部分\n",
        "* model architect\n",
        "* Optimizer\n",
        "* Loss function"
      ]
    },
    {
      "cell_type": "code",
      "execution_count": null,
      "metadata": {
        "id": "xRiw8iLsxKp2",
        "outputId": "aa268ce4-898d-4a4b-b308-643c4d3c6ab6"
      },
      "outputs": [
        {
          "name": "stderr",
          "output_type": "stream",
          "text": [
            "c:\\Users\\Tony\\anaconda3\\envs\\dl\\lib\\site-packages\\keras\\src\\layers\\convolutional\\base_conv.py:107: UserWarning: Do not pass an `input_shape`/`input_dim` argument to a layer. When using Sequential models, prefer using an `Input(shape)` object as the first layer in the model instead.\n",
            "  super().__init__(activity_regularizer=activity_regularizer, **kwargs)\n"
          ]
        }
      ],
      "source": [
        "input_shape = (window_size, 44)   ## 要注意形狀 (#timestamp, #features)\n",
        "\n",
        "# strides=1                  # kernel_sized可以設定的大小跟window_size(時間)有關\n",
        "model = Sequential([\n",
        "    Conv1D(filters=32, kernel_size=2, strides=1, activation='relu', input_shape=input_shape, kernel_regularizer= tf.keras.regularizers.l2(0.01)),\n",
        "    CBAMLayer(channel=32), # 看是不是這樣用(可以用...)(裡面有沒有寫對?不知道...) # 添加 CBAMLayer，這裡的 channel 應該與上一層的輸出(channel數)一致\n",
        "    Conv1D(filters=32, kernel_size=2, strides=1, activation='relu', kernel_regularizer= tf.keras.regularizers.l2(0.01)), # 這邊出來的shape應該是 (None, 2, 4)\n",
        "    # Conv1D(filters=32, kernel_size=2, strides=1, activation='relu', kernel_regularizer= tf.keras.regularizers.l2(0.01)), # 這邊出來的shape應該是 (None, 2, 4)\n",
        "    Dropout(0.5),\n",
        "    MaxPooling1D(pool_size=2),\n",
        "    # Flatten(),  # 添加 Flatten 層\n",
        "\n",
        "    # BiLSTM要吃2維的\n",
        "    Bidirectional(GRU(5, return_sequences=True)),\n",
        "    # Dropout(0.5),     # 這代表說從上面的Bidirectional到下面的Bidirectional時，前面的那層neuron(隨機(p=<數值，這裡就是0.5>)被不啟動，也就是給權重給0的意思)，換個方式講可能比較好: Dropout也是一層但它的作用就是隨機把上一層的一些輸出*權重0(等於是deactive這些被挑到的neurons)，用來避免overfittin\n",
        "    Bidirectional(GRU(5, return_sequences=True)),\n",
        "    Flatten(),\n",
        "    Dense(128, activation='relu', name='target_layer'),  # 數字是輸出時的向量長度(neurons數量)\n",
        "    # Dense(n_features),  # 輸出層的單元數應該等於特徵數量\n",
        "    Dense(1)\n",
        "])"
      ]
    },
    {
      "cell_type": "code",
      "execution_count": null,
      "metadata": {
        "id": "fySC14qXxKp2"
      },
      "outputs": [],
      "source": [
        "optimizer = tf.keras.optimizers.Adam(learning_rate=0.001)\n",
        "model.compile(optimizer= optimizer,\n",
        "              loss=tf.keras.losses.MeanSquaredError(),       # Huber() # MeanSquaredError\n",
        "              metrics= [RootMeanSquaredError(), cc])"
      ]
    },
    {
      "cell_type": "code",
      "execution_count": null,
      "metadata": {
        "id": "zgcCd5SpxKqA"
      },
      "outputs": [],
      "source": [
        "from keras.callbacks import EarlyStopping\n",
        "\n",
        "early_stopping = EarlyStopping(monitor='val_loss',\n",
        "                               patience=5, verbose=1,\n",
        "                               mode='min',\n",
        "                               restore_best_weights=True)"
      ]
    },
    {
      "cell_type": "code",
      "execution_count": null,
      "metadata": {
        "id": "HLXT1t3DxKqB"
      },
      "outputs": [],
      "source": [
        "# !pip install ops"
      ]
    },
    {
      "cell_type": "code",
      "execution_count": null,
      "metadata": {
        "id": "AC4VYm9IxKqB"
      },
      "outputs": [],
      "source": [
        "# LearningRateScheduler\n",
        "import ops\n",
        "import math\n",
        "from keras.callbacks import LearningRateScheduler\n",
        "def scheduler(epoch, lr):\n",
        "    if epoch < 10:\n",
        "        return lr\n",
        "    else:\n",
        "        return lr * math.exp(-0.1)\n",
        "\n",
        "lr_Scheduler = LearningRateScheduler(scheduler)\n"
      ]
    },
    {
      "cell_type": "code",
      "execution_count": null,
      "metadata": {
        "id": "ll05ztqHxKqB",
        "outputId": "04702891-d321-4232-e1d3-7c60d5af41da"
      },
      "outputs": [
        {
          "data": {
            "text/plain": [
              "(115, 1)"
            ]
          },
          "execution_count": 33,
          "metadata": {},
          "output_type": "execute_result"
        }
      ],
      "source": [
        "# y要reshape\n",
        "y_train.shape"
      ]
    },
    {
      "cell_type": "code",
      "execution_count": null,
      "metadata": {
        "id": "kEZIZd-OxKqC",
        "outputId": "a8de9daf-3b47-4027-8487-8f72f2962b15"
      },
      "outputs": [
        {
          "name": "stdout",
          "output_type": "stream",
          "text": [
            "Epoch 1/50\n",
            "\u001b[1m4/4\u001b[0m \u001b[32m━━━━━━━━━━━━━━━━━━━━\u001b[0m\u001b[37m\u001b[0m \u001b[1m13s\u001b[0m 481ms/step - cc: 0.4390 - loss: 1.2803 - root_mean_squared_error: 0.7659 - val_cc: -0.8487 - val_loss: 10.3151 - val_root_mean_squared_error: 3.1050 - learning_rate: 0.0010\n",
            "Epoch 2/50\n",
            "\u001b[1m4/4\u001b[0m \u001b[32m━━━━━━━━━━━━━━━━━━━━\u001b[0m\u001b[37m\u001b[0m \u001b[1m0s\u001b[0m 22ms/step - cc: 0.7862 - loss: 1.1805 - root_mean_squared_error: 0.7125 - val_cc: -0.7768 - val_loss: 9.2122 - val_root_mean_squared_error: 2.9257 - learning_rate: 0.0010\n",
            "Epoch 3/50\n",
            "\u001b[1m4/4\u001b[0m \u001b[32m━━━━━━━━━━━━━━━━━━━━\u001b[0m\u001b[37m\u001b[0m \u001b[1m0s\u001b[0m 22ms/step - cc: 0.7694 - loss: 0.9536 - root_mean_squared_error: 0.5524 - val_cc: -0.7717 - val_loss: 7.7849 - val_root_mean_squared_error: 2.6745 - learning_rate: 0.0010\n",
            "Epoch 4/50\n",
            "\u001b[1m4/4\u001b[0m \u001b[32m━━━━━━━━━━━━━━━━━━━━\u001b[0m\u001b[37m\u001b[0m \u001b[1m0s\u001b[0m 23ms/step - cc: 0.8892 - loss: 0.8310 - root_mean_squared_error: 0.4491 - val_cc: -0.7181 - val_loss: 6.1174 - val_root_mean_squared_error: 2.3461 - learning_rate: 0.0010\n",
            "Epoch 5/50\n",
            "\u001b[1m4/4\u001b[0m \u001b[32m━━━━━━━━━━━━━━━━━━━━\u001b[0m\u001b[37m\u001b[0m \u001b[1m0s\u001b[0m 26ms/step - cc: 0.9189 - loss: 0.6958 - root_mean_squared_error: 0.2935 - val_cc: -0.7140 - val_loss: 4.6237 - val_root_mean_squared_error: 2.0072 - learning_rate: 0.0010\n",
            "Epoch 6/50\n",
            "\u001b[1m4/4\u001b[0m \u001b[32m━━━━━━━━━━━━━━━━━━━━\u001b[0m\u001b[37m\u001b[0m \u001b[1m0s\u001b[0m 23ms/step - cc: 0.9437 - loss: 0.6569 - root_mean_squared_error: 0.2567 - val_cc: -0.6679 - val_loss: 3.7096 - val_root_mean_squared_error: 1.7702 - learning_rate: 0.0010\n",
            "Epoch 7/50\n",
            "\u001b[1m4/4\u001b[0m \u001b[32m━━━━━━━━━━━━━━━━━━━━\u001b[0m\u001b[37m\u001b[0m \u001b[1m0s\u001b[0m 23ms/step - cc: 0.9397 - loss: 0.6407 - root_mean_squared_error: 0.2618 - val_cc: -0.5937 - val_loss: 3.5963 - val_root_mean_squared_error: 1.7434 - learning_rate: 0.0010\n",
            "Epoch 8/50\n",
            "\u001b[1m4/4\u001b[0m \u001b[32m━━━━━━━━━━━━━━━━━━━━\u001b[0m\u001b[37m\u001b[0m \u001b[1m0s\u001b[0m 21ms/step - cc: 0.9625 - loss: 0.5993 - root_mean_squared_error: 0.2147 - val_cc: -0.5284 - val_loss: 3.9256 - val_root_mean_squared_error: 1.8405 - learning_rate: 0.0010\n",
            "Epoch 9/50\n",
            "\u001b[1m4/4\u001b[0m \u001b[32m━━━━━━━━━━━━━━━━━━━━\u001b[0m\u001b[37m\u001b[0m \u001b[1m0s\u001b[0m 23ms/step - cc: 0.9665 - loss: 0.5659 - root_mean_squared_error: 0.1775 - val_cc: -0.4855 - val_loss: 4.1733 - val_root_mean_squared_error: 1.9115 - learning_rate: 0.0010\n",
            "Epoch 10/50\n",
            "\u001b[1m4/4\u001b[0m \u001b[32m━━━━━━━━━━━━━━━━━━━━\u001b[0m\u001b[37m\u001b[0m \u001b[1m0s\u001b[0m 22ms/step - cc: 0.9600 - loss: 0.5599 - root_mean_squared_error: 0.2106 - val_cc: -0.4968 - val_loss: 4.0947 - val_root_mean_squared_error: 1.8956 - learning_rate: 0.0010\n",
            "Epoch 11/50\n",
            "\u001b[1m4/4\u001b[0m \u001b[32m━━━━━━━━━━━━━━━━━━━━\u001b[0m\u001b[37m\u001b[0m \u001b[1m0s\u001b[0m 22ms/step - cc: 0.9626 - loss: 0.5365 - root_mean_squared_error: 0.1960 - val_cc: -0.5059 - val_loss: 3.9625 - val_root_mean_squared_error: 1.8647 - learning_rate: 9.0484e-04\n",
            "Epoch 12/50\n",
            "\u001b[1m4/4\u001b[0m \u001b[32m━━━━━━━━━━━━━━━━━━━━\u001b[0m\u001b[37m\u001b[0m \u001b[1m0s\u001b[0m 21ms/step - cc: 0.9675 - loss: 0.5168 - root_mean_squared_error: 0.1850 - val_cc: -0.5074 - val_loss: 3.9074 - val_root_mean_squared_error: 1.8537 - learning_rate: 8.1873e-04\n",
            "Epoch 12: early stopping\n",
            "Restoring model weights from the end of the best epoch: 7.\n"
          ]
        }
      ],
      "source": [
        "history = model.fit(\n",
        "    X_train, y_train,\n",
        "    epochs=50,\n",
        "    batch_size=32,\n",
        "    validation_data=(X_val, y_val),\n",
        "    callbacks=[early_stopping, lr_Scheduler]) # keras.callbacks module下的物件，在建立模型時都是以list的形式給的"
      ]
    },
    {
      "cell_type": "code",
      "execution_count": null,
      "metadata": {
        "id": "pubIoLJaxKqC",
        "outputId": "60fec81e-abb4-4e2d-eee9-9048468621d8"
      },
      "outputs": [
        {
          "data": {
            "text/html": [
              "<pre style=\"white-space:pre;overflow-x:auto;line-height:normal;font-family:Menlo,'DejaVu Sans Mono',consolas,'Courier New',monospace\"><span style=\"font-weight: bold\">Model: \"sequential_2\"</span>\n",
              "</pre>\n"
            ],
            "text/plain": [
              "\u001b[1mModel: \"sequential_2\"\u001b[0m\n"
            ]
          },
          "metadata": {},
          "output_type": "display_data"
        },
        {
          "data": {
            "text/html": [
              "<pre style=\"white-space:pre;overflow-x:auto;line-height:normal;font-family:Menlo,'DejaVu Sans Mono',consolas,'Courier New',monospace\">┏━━━━━━━━━━━━━━━━━━━━━━━━━━━━━━━━━┳━━━━━━━━━━━━━━━━━━━━━━━━┳━━━━━━━━━━━━━━━┓\n",
              "┃<span style=\"font-weight: bold\"> Layer (type)                    </span>┃<span style=\"font-weight: bold\"> Output Shape           </span>┃<span style=\"font-weight: bold\">       Param # </span>┃\n",
              "┡━━━━━━━━━━━━━━━━━━━━━━━━━━━━━━━━━╇━━━━━━━━━━━━━━━━━━━━━━━━╇━━━━━━━━━━━━━━━┩\n",
              "│ conv1d_1 (<span style=\"color: #0087ff; text-decoration-color: #0087ff\">Conv1D</span>)               │ (<span style=\"color: #00d7ff; text-decoration-color: #00d7ff\">None</span>, <span style=\"color: #00af00; text-decoration-color: #00af00\">11</span>, <span style=\"color: #00af00; text-decoration-color: #00af00\">32</span>)         │         <span style=\"color: #00af00; text-decoration-color: #00af00\">2,848</span> │\n",
              "├─────────────────────────────────┼────────────────────────┼───────────────┤\n",
              "│ cbam_layer_1 (<span style=\"color: #0087ff; text-decoration-color: #0087ff\">CBAMLayer</span>)        │ (<span style=\"color: #00d7ff; text-decoration-color: #00d7ff\">None</span>, <span style=\"color: #00af00; text-decoration-color: #00af00\">11</span>, <span style=\"color: #00af00; text-decoration-color: #00af00\">32</span>)         │           <span style=\"color: #00af00; text-decoration-color: #00af00\">142</span> │\n",
              "├─────────────────────────────────┼────────────────────────┼───────────────┤\n",
              "│ conv1d_3 (<span style=\"color: #0087ff; text-decoration-color: #0087ff\">Conv1D</span>)               │ (<span style=\"color: #00d7ff; text-decoration-color: #00d7ff\">None</span>, <span style=\"color: #00af00; text-decoration-color: #00af00\">10</span>, <span style=\"color: #00af00; text-decoration-color: #00af00\">32</span>)         │         <span style=\"color: #00af00; text-decoration-color: #00af00\">2,080</span> │\n",
              "├─────────────────────────────────┼────────────────────────┼───────────────┤\n",
              "│ dropout (<span style=\"color: #0087ff; text-decoration-color: #0087ff\">Dropout</span>)               │ (<span style=\"color: #00d7ff; text-decoration-color: #00d7ff\">None</span>, <span style=\"color: #00af00; text-decoration-color: #00af00\">10</span>, <span style=\"color: #00af00; text-decoration-color: #00af00\">32</span>)         │             <span style=\"color: #00af00; text-decoration-color: #00af00\">0</span> │\n",
              "├─────────────────────────────────┼────────────────────────┼───────────────┤\n",
              "│ max_pooling1d (<span style=\"color: #0087ff; text-decoration-color: #0087ff\">MaxPooling1D</span>)    │ (<span style=\"color: #00d7ff; text-decoration-color: #00d7ff\">None</span>, <span style=\"color: #00af00; text-decoration-color: #00af00\">5</span>, <span style=\"color: #00af00; text-decoration-color: #00af00\">32</span>)          │             <span style=\"color: #00af00; text-decoration-color: #00af00\">0</span> │\n",
              "├─────────────────────────────────┼────────────────────────┼───────────────┤\n",
              "│ bidirectional (<span style=\"color: #0087ff; text-decoration-color: #0087ff\">Bidirectional</span>)   │ (<span style=\"color: #00d7ff; text-decoration-color: #00d7ff\">None</span>, <span style=\"color: #00af00; text-decoration-color: #00af00\">5</span>, <span style=\"color: #00af00; text-decoration-color: #00af00\">10</span>)          │         <span style=\"color: #00af00; text-decoration-color: #00af00\">1,170</span> │\n",
              "├─────────────────────────────────┼────────────────────────┼───────────────┤\n",
              "│ bidirectional_1 (<span style=\"color: #0087ff; text-decoration-color: #0087ff\">Bidirectional</span>) │ (<span style=\"color: #00d7ff; text-decoration-color: #00d7ff\">None</span>, <span style=\"color: #00af00; text-decoration-color: #00af00\">5</span>, <span style=\"color: #00af00; text-decoration-color: #00af00\">10</span>)          │           <span style=\"color: #00af00; text-decoration-color: #00af00\">510</span> │\n",
              "├─────────────────────────────────┼────────────────────────┼───────────────┤\n",
              "│ flatten (<span style=\"color: #0087ff; text-decoration-color: #0087ff\">Flatten</span>)               │ (<span style=\"color: #00d7ff; text-decoration-color: #00d7ff\">None</span>, <span style=\"color: #00af00; text-decoration-color: #00af00\">50</span>)             │             <span style=\"color: #00af00; text-decoration-color: #00af00\">0</span> │\n",
              "├─────────────────────────────────┼────────────────────────┼───────────────┤\n",
              "│ target_layer (<span style=\"color: #0087ff; text-decoration-color: #0087ff\">Dense</span>)            │ (<span style=\"color: #00d7ff; text-decoration-color: #00d7ff\">None</span>, <span style=\"color: #00af00; text-decoration-color: #00af00\">128</span>)            │         <span style=\"color: #00af00; text-decoration-color: #00af00\">6,528</span> │\n",
              "├─────────────────────────────────┼────────────────────────┼───────────────┤\n",
              "│ dense_4 (<span style=\"color: #0087ff; text-decoration-color: #0087ff\">Dense</span>)                 │ (<span style=\"color: #00d7ff; text-decoration-color: #00d7ff\">None</span>, <span style=\"color: #00af00; text-decoration-color: #00af00\">1</span>)              │           <span style=\"color: #00af00; text-decoration-color: #00af00\">129</span> │\n",
              "└─────────────────────────────────┴────────────────────────┴───────────────┘\n",
              "</pre>\n"
            ],
            "text/plain": [
              "┏━━━━━━━━━━━━━━━━━━━━━━━━━━━━━━━━━┳━━━━━━━━━━━━━━━━━━━━━━━━┳━━━━━━━━━━━━━━━┓\n",
              "┃\u001b[1m \u001b[0m\u001b[1mLayer (type)                   \u001b[0m\u001b[1m \u001b[0m┃\u001b[1m \u001b[0m\u001b[1mOutput Shape          \u001b[0m\u001b[1m \u001b[0m┃\u001b[1m \u001b[0m\u001b[1m      Param #\u001b[0m\u001b[1m \u001b[0m┃\n",
              "┡━━━━━━━━━━━━━━━━━━━━━━━━━━━━━━━━━╇━━━━━━━━━━━━━━━━━━━━━━━━╇━━━━━━━━━━━━━━━┩\n",
              "│ conv1d_1 (\u001b[38;5;33mConv1D\u001b[0m)               │ (\u001b[38;5;45mNone\u001b[0m, \u001b[38;5;34m11\u001b[0m, \u001b[38;5;34m32\u001b[0m)         │         \u001b[38;5;34m2,848\u001b[0m │\n",
              "├─────────────────────────────────┼────────────────────────┼───────────────┤\n",
              "│ cbam_layer_1 (\u001b[38;5;33mCBAMLayer\u001b[0m)        │ (\u001b[38;5;45mNone\u001b[0m, \u001b[38;5;34m11\u001b[0m, \u001b[38;5;34m32\u001b[0m)         │           \u001b[38;5;34m142\u001b[0m │\n",
              "├─────────────────────────────────┼────────────────────────┼───────────────┤\n",
              "│ conv1d_3 (\u001b[38;5;33mConv1D\u001b[0m)               │ (\u001b[38;5;45mNone\u001b[0m, \u001b[38;5;34m10\u001b[0m, \u001b[38;5;34m32\u001b[0m)         │         \u001b[38;5;34m2,080\u001b[0m │\n",
              "├─────────────────────────────────┼────────────────────────┼───────────────┤\n",
              "│ dropout (\u001b[38;5;33mDropout\u001b[0m)               │ (\u001b[38;5;45mNone\u001b[0m, \u001b[38;5;34m10\u001b[0m, \u001b[38;5;34m32\u001b[0m)         │             \u001b[38;5;34m0\u001b[0m │\n",
              "├─────────────────────────────────┼────────────────────────┼───────────────┤\n",
              "│ max_pooling1d (\u001b[38;5;33mMaxPooling1D\u001b[0m)    │ (\u001b[38;5;45mNone\u001b[0m, \u001b[38;5;34m5\u001b[0m, \u001b[38;5;34m32\u001b[0m)          │             \u001b[38;5;34m0\u001b[0m │\n",
              "├─────────────────────────────────┼────────────────────────┼───────────────┤\n",
              "│ bidirectional (\u001b[38;5;33mBidirectional\u001b[0m)   │ (\u001b[38;5;45mNone\u001b[0m, \u001b[38;5;34m5\u001b[0m, \u001b[38;5;34m10\u001b[0m)          │         \u001b[38;5;34m1,170\u001b[0m │\n",
              "├─────────────────────────────────┼────────────────────────┼───────────────┤\n",
              "│ bidirectional_1 (\u001b[38;5;33mBidirectional\u001b[0m) │ (\u001b[38;5;45mNone\u001b[0m, \u001b[38;5;34m5\u001b[0m, \u001b[38;5;34m10\u001b[0m)          │           \u001b[38;5;34m510\u001b[0m │\n",
              "├─────────────────────────────────┼────────────────────────┼───────────────┤\n",
              "│ flatten (\u001b[38;5;33mFlatten\u001b[0m)               │ (\u001b[38;5;45mNone\u001b[0m, \u001b[38;5;34m50\u001b[0m)             │             \u001b[38;5;34m0\u001b[0m │\n",
              "├─────────────────────────────────┼────────────────────────┼───────────────┤\n",
              "│ target_layer (\u001b[38;5;33mDense\u001b[0m)            │ (\u001b[38;5;45mNone\u001b[0m, \u001b[38;5;34m128\u001b[0m)            │         \u001b[38;5;34m6,528\u001b[0m │\n",
              "├─────────────────────────────────┼────────────────────────┼───────────────┤\n",
              "│ dense_4 (\u001b[38;5;33mDense\u001b[0m)                 │ (\u001b[38;5;45mNone\u001b[0m, \u001b[38;5;34m1\u001b[0m)              │           \u001b[38;5;34m129\u001b[0m │\n",
              "└─────────────────────────────────┴────────────────────────┴───────────────┘\n"
            ]
          },
          "metadata": {},
          "output_type": "display_data"
        },
        {
          "data": {
            "text/html": [
              "<pre style=\"white-space:pre;overflow-x:auto;line-height:normal;font-family:Menlo,'DejaVu Sans Mono',consolas,'Courier New',monospace\"><span style=\"font-weight: bold\"> Total params: </span><span style=\"color: #00af00; text-decoration-color: #00af00\">40,223</span> (157.12 KB)\n",
              "</pre>\n"
            ],
            "text/plain": [
              "\u001b[1m Total params: \u001b[0m\u001b[38;5;34m40,223\u001b[0m (157.12 KB)\n"
            ]
          },
          "metadata": {},
          "output_type": "display_data"
        },
        {
          "data": {
            "text/html": [
              "<pre style=\"white-space:pre;overflow-x:auto;line-height:normal;font-family:Menlo,'DejaVu Sans Mono',consolas,'Courier New',monospace\"><span style=\"font-weight: bold\"> Trainable params: </span><span style=\"color: #00af00; text-decoration-color: #00af00\">13,407</span> (52.37 KB)\n",
              "</pre>\n"
            ],
            "text/plain": [
              "\u001b[1m Trainable params: \u001b[0m\u001b[38;5;34m13,407\u001b[0m (52.37 KB)\n"
            ]
          },
          "metadata": {},
          "output_type": "display_data"
        },
        {
          "data": {
            "text/html": [
              "<pre style=\"white-space:pre;overflow-x:auto;line-height:normal;font-family:Menlo,'DejaVu Sans Mono',consolas,'Courier New',monospace\"><span style=\"font-weight: bold\"> Non-trainable params: </span><span style=\"color: #00af00; text-decoration-color: #00af00\">0</span> (0.00 B)\n",
              "</pre>\n"
            ],
            "text/plain": [
              "\u001b[1m Non-trainable params: \u001b[0m\u001b[38;5;34m0\u001b[0m (0.00 B)\n"
            ]
          },
          "metadata": {},
          "output_type": "display_data"
        },
        {
          "data": {
            "text/html": [
              "<pre style=\"white-space:pre;overflow-x:auto;line-height:normal;font-family:Menlo,'DejaVu Sans Mono',consolas,'Courier New',monospace\"><span style=\"font-weight: bold\"> Optimizer params: </span><span style=\"color: #00af00; text-decoration-color: #00af00\">26,816</span> (104.75 KB)\n",
              "</pre>\n"
            ],
            "text/plain": [
              "\u001b[1m Optimizer params: \u001b[0m\u001b[38;5;34m26,816\u001b[0m (104.75 KB)\n"
            ]
          },
          "metadata": {},
          "output_type": "display_data"
        },
        {
          "name": "stdout",
          "output_type": "stream",
          "text": [
            "You must install graphviz (see instructions at https://graphviz.gitlab.io/download/) for `plot_model` to work.\n"
          ]
        },
        {
          "ename": "FileNotFoundError",
          "evalue": "No such file or directory: 'convolutional_neural_network.png'",
          "output_type": "error",
          "traceback": [
            "\u001b[1;31m---------------------------------------------------------------------------\u001b[0m",
            "\u001b[1;31mTypeError\u001b[0m                                 Traceback (most recent call last)",
            "File \u001b[1;32mc:\\Users\\Tony\\anaconda3\\envs\\dl\\lib\\site-packages\\IPython\\core\\display.py:1045\u001b[0m, in \u001b[0;36mImage._data_and_metadata\u001b[1;34m(self, always_both)\u001b[0m\n\u001b[0;32m   1044\u001b[0m \u001b[38;5;28;01mtry\u001b[39;00m:\n\u001b[1;32m-> 1045\u001b[0m     b64_data \u001b[38;5;241m=\u001b[39m \u001b[43mb2a_base64\u001b[49m\u001b[43m(\u001b[49m\u001b[38;5;28;43mself\u001b[39;49m\u001b[38;5;241;43m.\u001b[39;49m\u001b[43mdata\u001b[49m\u001b[43m,\u001b[49m\u001b[43m \u001b[49m\u001b[43mnewline\u001b[49m\u001b[38;5;241;43m=\u001b[39;49m\u001b[38;5;28;43;01mFalse\u001b[39;49;00m\u001b[43m)\u001b[49m\u001b[38;5;241m.\u001b[39mdecode(\u001b[38;5;124m\"\u001b[39m\u001b[38;5;124mascii\u001b[39m\u001b[38;5;124m\"\u001b[39m)\n\u001b[0;32m   1046\u001b[0m \u001b[38;5;28;01mexcept\u001b[39;00m \u001b[38;5;167;01mTypeError\u001b[39;00m \u001b[38;5;28;01mas\u001b[39;00m e:\n",
            "\u001b[1;31mTypeError\u001b[0m: a bytes-like object is required, not 'str'",
            "\nThe above exception was the direct cause of the following exception:\n",
            "\u001b[1;31mFileNotFoundError\u001b[0m                         Traceback (most recent call last)",
            "File \u001b[1;32mc:\\Users\\Tony\\anaconda3\\envs\\dl\\lib\\site-packages\\IPython\\core\\formatters.py:977\u001b[0m, in \u001b[0;36mMimeBundleFormatter.__call__\u001b[1;34m(self, obj, include, exclude)\u001b[0m\n\u001b[0;32m    974\u001b[0m     method \u001b[38;5;241m=\u001b[39m get_real_method(obj, \u001b[38;5;28mself\u001b[39m\u001b[38;5;241m.\u001b[39mprint_method)\n\u001b[0;32m    976\u001b[0m     \u001b[38;5;28;01mif\u001b[39;00m method \u001b[38;5;129;01mis\u001b[39;00m \u001b[38;5;129;01mnot\u001b[39;00m \u001b[38;5;28;01mNone\u001b[39;00m:\n\u001b[1;32m--> 977\u001b[0m         \u001b[38;5;28;01mreturn\u001b[39;00m \u001b[43mmethod\u001b[49m\u001b[43m(\u001b[49m\u001b[43minclude\u001b[49m\u001b[38;5;241;43m=\u001b[39;49m\u001b[43minclude\u001b[49m\u001b[43m,\u001b[49m\u001b[43m \u001b[49m\u001b[43mexclude\u001b[49m\u001b[38;5;241;43m=\u001b[39;49m\u001b[43mexclude\u001b[49m\u001b[43m)\u001b[49m\n\u001b[0;32m    978\u001b[0m     \u001b[38;5;28;01mreturn\u001b[39;00m \u001b[38;5;28;01mNone\u001b[39;00m\n\u001b[0;32m    979\u001b[0m \u001b[38;5;28;01melse\u001b[39;00m:\n",
            "File \u001b[1;32mc:\\Users\\Tony\\anaconda3\\envs\\dl\\lib\\site-packages\\IPython\\core\\display.py:1035\u001b[0m, in \u001b[0;36mImage._repr_mimebundle_\u001b[1;34m(self, include, exclude)\u001b[0m\n\u001b[0;32m   1033\u001b[0m \u001b[38;5;28;01mif\u001b[39;00m \u001b[38;5;28mself\u001b[39m\u001b[38;5;241m.\u001b[39membed:\n\u001b[0;32m   1034\u001b[0m     mimetype \u001b[38;5;241m=\u001b[39m \u001b[38;5;28mself\u001b[39m\u001b[38;5;241m.\u001b[39m_mimetype\n\u001b[1;32m-> 1035\u001b[0m     data, metadata \u001b[38;5;241m=\u001b[39m \u001b[38;5;28;43mself\u001b[39;49m\u001b[38;5;241;43m.\u001b[39;49m\u001b[43m_data_and_metadata\u001b[49m\u001b[43m(\u001b[49m\u001b[43malways_both\u001b[49m\u001b[38;5;241;43m=\u001b[39;49m\u001b[38;5;28;43;01mTrue\u001b[39;49;00m\u001b[43m)\u001b[49m\n\u001b[0;32m   1036\u001b[0m     \u001b[38;5;28;01mif\u001b[39;00m metadata:\n\u001b[0;32m   1037\u001b[0m         metadata \u001b[38;5;241m=\u001b[39m {mimetype: metadata}\n",
            "File \u001b[1;32mc:\\Users\\Tony\\anaconda3\\envs\\dl\\lib\\site-packages\\IPython\\core\\display.py:1047\u001b[0m, in \u001b[0;36mImage._data_and_metadata\u001b[1;34m(self, always_both)\u001b[0m\n\u001b[0;32m   1045\u001b[0m     b64_data \u001b[38;5;241m=\u001b[39m b2a_base64(\u001b[38;5;28mself\u001b[39m\u001b[38;5;241m.\u001b[39mdata, newline\u001b[38;5;241m=\u001b[39m\u001b[38;5;28;01mFalse\u001b[39;00m)\u001b[38;5;241m.\u001b[39mdecode(\u001b[38;5;124m\"\u001b[39m\u001b[38;5;124mascii\u001b[39m\u001b[38;5;124m\"\u001b[39m)\n\u001b[0;32m   1046\u001b[0m \u001b[38;5;28;01mexcept\u001b[39;00m \u001b[38;5;167;01mTypeError\u001b[39;00m \u001b[38;5;28;01mas\u001b[39;00m e:\n\u001b[1;32m-> 1047\u001b[0m     \u001b[38;5;28;01mraise\u001b[39;00m \u001b[38;5;167;01mFileNotFoundError\u001b[39;00m(\n\u001b[0;32m   1048\u001b[0m         \u001b[38;5;124m\"\u001b[39m\u001b[38;5;124mNo such file or directory: \u001b[39m\u001b[38;5;124m'\u001b[39m\u001b[38;5;132;01m%s\u001b[39;00m\u001b[38;5;124m'\u001b[39m\u001b[38;5;124m\"\u001b[39m \u001b[38;5;241m%\u001b[39m (\u001b[38;5;28mself\u001b[39m\u001b[38;5;241m.\u001b[39mdata)) \u001b[38;5;28;01mfrom\u001b[39;00m \u001b[38;5;21;01me\u001b[39;00m\n\u001b[0;32m   1049\u001b[0m md \u001b[38;5;241m=\u001b[39m {}\n\u001b[0;32m   1050\u001b[0m \u001b[38;5;28;01mif\u001b[39;00m \u001b[38;5;28mself\u001b[39m\u001b[38;5;241m.\u001b[39mmetadata:\n",
            "\u001b[1;31mFileNotFoundError\u001b[0m: No such file or directory: 'convolutional_neural_network.png'"
          ]
        },
        {
          "ename": "FileNotFoundError",
          "evalue": "No such file or directory: 'convolutional_neural_network.png'",
          "output_type": "error",
          "traceback": [
            "\u001b[1;31m---------------------------------------------------------------------------\u001b[0m",
            "\u001b[1;31mTypeError\u001b[0m                                 Traceback (most recent call last)",
            "File \u001b[1;32mc:\\Users\\Tony\\anaconda3\\envs\\dl\\lib\\site-packages\\IPython\\core\\display.py:1045\u001b[0m, in \u001b[0;36mImage._data_and_metadata\u001b[1;34m(self, always_both)\u001b[0m\n\u001b[0;32m   1044\u001b[0m \u001b[38;5;28;01mtry\u001b[39;00m:\n\u001b[1;32m-> 1045\u001b[0m     b64_data \u001b[38;5;241m=\u001b[39m \u001b[43mb2a_base64\u001b[49m\u001b[43m(\u001b[49m\u001b[38;5;28;43mself\u001b[39;49m\u001b[38;5;241;43m.\u001b[39;49m\u001b[43mdata\u001b[49m\u001b[43m,\u001b[49m\u001b[43m \u001b[49m\u001b[43mnewline\u001b[49m\u001b[38;5;241;43m=\u001b[39;49m\u001b[38;5;28;43;01mFalse\u001b[39;49;00m\u001b[43m)\u001b[49m\u001b[38;5;241m.\u001b[39mdecode(\u001b[38;5;124m\"\u001b[39m\u001b[38;5;124mascii\u001b[39m\u001b[38;5;124m\"\u001b[39m)\n\u001b[0;32m   1046\u001b[0m \u001b[38;5;28;01mexcept\u001b[39;00m \u001b[38;5;167;01mTypeError\u001b[39;00m \u001b[38;5;28;01mas\u001b[39;00m e:\n",
            "\u001b[1;31mTypeError\u001b[0m: a bytes-like object is required, not 'str'",
            "\nThe above exception was the direct cause of the following exception:\n",
            "\u001b[1;31mFileNotFoundError\u001b[0m                         Traceback (most recent call last)",
            "File \u001b[1;32mc:\\Users\\Tony\\anaconda3\\envs\\dl\\lib\\site-packages\\IPython\\core\\formatters.py:347\u001b[0m, in \u001b[0;36mBaseFormatter.__call__\u001b[1;34m(self, obj)\u001b[0m\n\u001b[0;32m    345\u001b[0m     method \u001b[38;5;241m=\u001b[39m get_real_method(obj, \u001b[38;5;28mself\u001b[39m\u001b[38;5;241m.\u001b[39mprint_method)\n\u001b[0;32m    346\u001b[0m     \u001b[38;5;28;01mif\u001b[39;00m method \u001b[38;5;129;01mis\u001b[39;00m \u001b[38;5;129;01mnot\u001b[39;00m \u001b[38;5;28;01mNone\u001b[39;00m:\n\u001b[1;32m--> 347\u001b[0m         \u001b[38;5;28;01mreturn\u001b[39;00m \u001b[43mmethod\u001b[49m\u001b[43m(\u001b[49m\u001b[43m)\u001b[49m\n\u001b[0;32m    348\u001b[0m     \u001b[38;5;28;01mreturn\u001b[39;00m \u001b[38;5;28;01mNone\u001b[39;00m\n\u001b[0;32m    349\u001b[0m \u001b[38;5;28;01melse\u001b[39;00m:\n",
            "File \u001b[1;32mc:\\Users\\Tony\\anaconda3\\envs\\dl\\lib\\site-packages\\IPython\\core\\display.py:1067\u001b[0m, in \u001b[0;36mImage._repr_png_\u001b[1;34m(self)\u001b[0m\n\u001b[0;32m   1065\u001b[0m \u001b[38;5;28;01mdef\u001b[39;00m \u001b[38;5;21m_repr_png_\u001b[39m(\u001b[38;5;28mself\u001b[39m):\n\u001b[0;32m   1066\u001b[0m     \u001b[38;5;28;01mif\u001b[39;00m \u001b[38;5;28mself\u001b[39m\u001b[38;5;241m.\u001b[39membed \u001b[38;5;129;01mand\u001b[39;00m \u001b[38;5;28mself\u001b[39m\u001b[38;5;241m.\u001b[39mformat \u001b[38;5;241m==\u001b[39m \u001b[38;5;28mself\u001b[39m\u001b[38;5;241m.\u001b[39m_FMT_PNG:\n\u001b[1;32m-> 1067\u001b[0m         \u001b[38;5;28;01mreturn\u001b[39;00m \u001b[38;5;28;43mself\u001b[39;49m\u001b[38;5;241;43m.\u001b[39;49m\u001b[43m_data_and_metadata\u001b[49m\u001b[43m(\u001b[49m\u001b[43m)\u001b[49m\n",
            "File \u001b[1;32mc:\\Users\\Tony\\anaconda3\\envs\\dl\\lib\\site-packages\\IPython\\core\\display.py:1047\u001b[0m, in \u001b[0;36mImage._data_and_metadata\u001b[1;34m(self, always_both)\u001b[0m\n\u001b[0;32m   1045\u001b[0m     b64_data \u001b[38;5;241m=\u001b[39m b2a_base64(\u001b[38;5;28mself\u001b[39m\u001b[38;5;241m.\u001b[39mdata, newline\u001b[38;5;241m=\u001b[39m\u001b[38;5;28;01mFalse\u001b[39;00m)\u001b[38;5;241m.\u001b[39mdecode(\u001b[38;5;124m\"\u001b[39m\u001b[38;5;124mascii\u001b[39m\u001b[38;5;124m\"\u001b[39m)\n\u001b[0;32m   1046\u001b[0m \u001b[38;5;28;01mexcept\u001b[39;00m \u001b[38;5;167;01mTypeError\u001b[39;00m \u001b[38;5;28;01mas\u001b[39;00m e:\n\u001b[1;32m-> 1047\u001b[0m     \u001b[38;5;28;01mraise\u001b[39;00m \u001b[38;5;167;01mFileNotFoundError\u001b[39;00m(\n\u001b[0;32m   1048\u001b[0m         \u001b[38;5;124m\"\u001b[39m\u001b[38;5;124mNo such file or directory: \u001b[39m\u001b[38;5;124m'\u001b[39m\u001b[38;5;132;01m%s\u001b[39;00m\u001b[38;5;124m'\u001b[39m\u001b[38;5;124m\"\u001b[39m \u001b[38;5;241m%\u001b[39m (\u001b[38;5;28mself\u001b[39m\u001b[38;5;241m.\u001b[39mdata)) \u001b[38;5;28;01mfrom\u001b[39;00m \u001b[38;5;21;01me\u001b[39;00m\n\u001b[0;32m   1049\u001b[0m md \u001b[38;5;241m=\u001b[39m {}\n\u001b[0;32m   1050\u001b[0m \u001b[38;5;28;01mif\u001b[39;00m \u001b[38;5;28mself\u001b[39m\u001b[38;5;241m.\u001b[39mmetadata:\n",
            "\u001b[1;31mFileNotFoundError\u001b[0m: No such file or directory: 'convolutional_neural_network.png'"
          ]
        },
        {
          "data": {
            "text/plain": [
              "<IPython.core.display.Image object>"
            ]
          },
          "execution_count": 44,
          "metadata": {},
          "output_type": "execute_result"
        }
      ],
      "source": [
        "# 這可以看每一層的shape(記一下)\n",
        "from keras.utils import plot_model\n",
        "model.summary()\n",
        "plot_model(model, to_file='convolutional_neural_network.png', show_shapes=True, show_layer_names=True)\n",
        "\n",
        "from IPython.display import Image\n",
        "Image('convolutional_neural_network.png')"
      ]
    },
    {
      "cell_type": "code",
      "execution_count": null,
      "metadata": {
        "id": "hD5mvR6exKqD",
        "outputId": "c21b612d-1d1f-4b7d-bcdb-4ac27e7450b2"
      },
      "outputs": [
        {
          "data": {
            "image/png": "[encoded data removed]",
            "text/plain": [
              "<Figure size 640x480 with 1 Axes>"
            ]
          },
          "metadata": {},
          "output_type": "display_data"
        }
      ],
      "source": [
        "### Loss下降情況 (training, validation)\n",
        "\n",
        "# Plot the training and validation metrics\n",
        "plt.plot(history.history['loss'], label='Training loss')\n",
        "plt.plot(history.history['val_loss'], label='Validation loss')\n",
        "plt.xlabel('Epochs')\n",
        "plt.ylabel('Value')\n",
        "plt.legend()\n",
        "plt.show()"
      ]
    },
    {
      "cell_type": "code",
      "execution_count": null,
      "metadata": {
        "id": "QvXW6feZxKqE",
        "outputId": "dc255296-2163-4041-9419-a650ad6bcf2a"
      },
      "outputs": [
        {
          "data": {
            "image/png": "[encoded data removed]",
            "text/plain": [
              "<Figure size 640x480 with 1 Axes>"
            ]
          },
          "metadata": {},
          "output_type": "display_data"
        }
      ],
      "source": [
        "### RMSE下降情況 (training, validation)\n",
        "\n",
        "plt.plot(history.history['root_mean_squared_error'], label='Training RMSE')\n",
        "plt.plot(history.history['val_root_mean_squared_error'], label='Validation RMSE')\n",
        "plt.xlabel('Epochs')\n",
        "plt.ylabel('Value')\n",
        "plt.legend()\n",
        "plt.show()"
      ]
    },
    {
      "cell_type": "code",
      "execution_count": null,
      "metadata": {
        "id": "G3zirBq7xKqE",
        "outputId": "335ada63-2b79-49f0-9cf2-41992fa4188a"
      },
      "outputs": [
        {
          "data": {
            "image/png": "[encoded data removed]",
            "text/plain": [
              "<Figure size 640x480 with 1 Axes>"
            ]
          },
          "metadata": {},
          "output_type": "display_data"
        }
      ],
      "source": [
        "### 兩者的相關係數 (training, validation)\n",
        "\n",
        "plt.plot(history.history['cc'], label='Training CC')\n",
        "plt.plot(history.history['val_cc'], label='Validation CC')\n",
        "plt.xlabel('Epochs')\n",
        "plt.ylabel('Value')\n",
        "plt.legend()\n",
        "plt.show()"
      ]
    },
    {
      "cell_type": "code",
      "execution_count": null,
      "metadata": {
        "id": "5THV01WCxKqF",
        "outputId": "ebe30f99-c11e-49bf-9f1a-4ee8355880f6"
      },
      "outputs": [
        {
          "name": "stdout",
          "output_type": "stream",
          "text": [
            "\u001b[1m4/4\u001b[0m \u001b[32m━━━━━━━━━━━━━━━━━━━━\u001b[0m\u001b[37m\u001b[0m \u001b[1m0s\u001b[0m 5ms/step - cc: 0.9478 - loss: 0.6029 - root_mean_squared_error: 0.2128 \n",
            "\u001b[1m4/4\u001b[0m \u001b[32m━━━━━━━━━━━━━━━━━━━━\u001b[0m\u001b[37m\u001b[0m \u001b[1m2s\u001b[0m 377ms/step\n"
          ]
        }
      ],
      "source": [
        "# Evaluate the model on the test set\n",
        "test_loss, test_rmse, test_cc = model.evaluate(X_train, y_train)\n",
        "\n",
        "# Make predictions on the test set\n",
        "y_pred = model.predict(X_train)"
      ]
    },
    {
      "cell_type": "code",
      "execution_count": null,
      "metadata": {
        "id": "XaeD8LE9xKqF",
        "outputId": "b17789be-acb2-4caa-9387-e4d5e7a024ff"
      },
      "outputs": [
        {
          "data": {
            "image/png": "[encoded data removed]",
            "text/plain": [
              "<Figure size 1500x500 with 1 Axes>"
            ]
          },
          "metadata": {},
          "output_type": "display_data"
        }
      ],
      "source": [
        "#\n",
        "# Plot the predicted and true labels\n",
        "import matplotlib.pyplot as plt\n",
        "plt.figure(figsize=(15, 5))\n",
        "plt.plot(y_train, label='True Labels')\n",
        "plt.plot(y_pred, label='Predicted Labels')\n",
        "plt.legend()\n",
        "plt.title('Training')\n",
        "# plt.savefig('training_plot.png') # 輸出圖片成檔案(要放在plt.show()之前否則會輸出空白圖表)\n",
        "plt.show()"
      ]
    },
    {
      "cell_type": "code",
      "execution_count": null,
      "metadata": {
        "id": "hwacFIhFxKqG",
        "outputId": "660e1a25-0c0c-4e93-b0a9-21aecb2d2e47"
      },
      "outputs": [
        {
          "name": "stdout",
          "output_type": "stream",
          "text": [
            "\u001b[1m1/1\u001b[0m \u001b[32m━━━━━━━━━━━━━━━━━━━━\u001b[0m\u001b[37m\u001b[0m \u001b[1m0s\u001b[0m 44ms/step - cc: -0.9445 - loss: 7.6044 - root_mean_squared_error: 2.6547\n",
            "\u001b[1m1/1\u001b[0m \u001b[32m━━━━━━━━━━━━━━━━━━━━\u001b[0m\u001b[37m\u001b[0m \u001b[1m0s\u001b[0m 31ms/step\n"
          ]
        },
        {
          "data": {
            "image/png": "[encoded data removed]",
            "text/plain": [
              "<Figure size 1500x500 with 1 Axes>"
            ]
          },
          "metadata": {},
          "output_type": "display_data"
        }
      ],
      "source": [
        "# Evaluate the model on the test set\n",
        "test_loss, test_rmse, test_cc = model.evaluate(X_test, y_test)\n",
        "\n",
        "# Make predictions on the test set\n",
        "y_pred_test = model.predict(X_test)\n",
        "\n",
        "#\n",
        "# Plot the predicted and true labels\n",
        "import matplotlib.pyplot as plt\n",
        "plt.figure(figsize=(15, 5))\n",
        "plt.plot(y_test, label='True Labels')\n",
        "plt.plot(y_pred_test, label='Predicted Labels')\n",
        "plt.legend()\n",
        "plt.title('Testing')\n",
        "plt.show()"
      ]
    },
    {
      "cell_type": "code",
      "execution_count": null,
      "metadata": {
        "id": "LOWGWtm6xKqG"
      },
      "outputs": [],
      "source": [
        "# import matplotlib.pyplot as plt # 之後研究一下\n",
        "\n",
        "# # 示例數據\n",
        "# time_train = range(1, 51)  # 假設訓練集有50個時間點\n",
        "# time_test = range(51, 101)  # 假設測試集有50個時間點\n",
        "# y_train = [i + (i % 10) for i in time_train]  # 假設的訓練集真實資料\n",
        "# y_test = [i + (i % 10) for i in time_test]  # 假設的測試集真實資料\n",
        "# y_pred_train = [i + (i % 8) for i in time_train]  # 假設的訓練集預測資料\n",
        "# y_pred_test = [i + (i % 8) for i in time_test]  # 假設的測試集預測資料\n",
        "\n",
        "# # 繪圖\n",
        "# plt.figure(figsize=(14, 7))\n",
        "# plt.plot(time_train, y_train, label='Training True Data', color='blue')\n",
        "# plt.plot(time_test, y_test, label='Testing True Data', color='blue', linestyle='dashed')\n",
        "# plt.plot(time_train, y_pred_train, label='Training Predicted Data', color='orange')\n",
        "# plt.plot(time_test, y_pred_test, label='Testing Predicted Data', color='orange', linestyle='dashed')\n",
        "\n",
        "# # 添加標籤和標題\n",
        "# plt.xlabel('Time')\n",
        "# plt.ylabel('Value')\n",
        "# plt.title('True Data vs Predicted Data')\n",
        "# plt.legend()\n",
        "# plt.grid(True)\n",
        "# plt.show()\n"
      ]
    }
  ],
  "metadata": {
    "kernelspec": {
      "display_name": "dl",
      "language": "python",
      "name": "python3"
    },
    "language_info": {
      "codemirror_mode": {
        "name": "ipython",
        "version": 3
      },
      "file_extension": ".py",
      "mimetype": "text/x-python",
      "name": "python",
      "nbconvert_exporter": "python",
      "pygments_lexer": "ipython3",
      "version": "3.10.14"
    },
    "colab": {
      "provenance": []
    }
  },
  "nbformat": 4,
  "nbformat_minor": 0
}